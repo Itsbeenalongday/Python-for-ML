{
 "cells": [
  {
   "cell_type": "code",
   "execution_count": 1,
   "metadata": {},
   "outputs": [],
   "source": [
    "import numpy as np\n",
    "import matplotlib as mpl\n",
    "import matplotlib.pyplot as plt\n",
    "from matplotlib.colors import ListedColormap, colorConverter, LinearSegmentedColormap"
   ]
  },
  {
   "cell_type": "markdown",
   "metadata": {},
   "source": [
    "## Wine data"
   ]
  },
  {
   "cell_type": "code",
   "execution_count": 2,
   "metadata": {
    "scrolled": false
   },
   "outputs": [
    {
     "name": "stdout",
     "output_type": "stream",
     "text": [
      ".. _wine_dataset:\n",
      "\n",
      "Wine recognition dataset\n",
      "------------------------\n",
      "\n",
      "**Data Set Characteristics:**\n",
      "\n",
      "    :Number of Instances: 178 (50 in each of three classes)\n",
      "    :Number of Attributes: 13 numeric, predictive attributes and the class\n",
      "    :Attribute Information:\n",
      " \t\t- Alcohol\n",
      " \t\t- Malic acid\n",
      " \t\t- Ash\n",
      "\t\t- Alcalinity of ash  \n",
      " \t\t- Magnesium\n",
      "\t\t- Total phenols\n",
      " \t\t- Flavanoids\n",
      " \t\t- Nonflavanoid phenols\n",
      " \t\t- Proanthocyanins\n",
      "\t\t- Color intensity\n",
      " \t\t- Hue\n",
      " \t\t- OD280/OD315 of diluted wines\n",
      " \t\t- Proline\n",
      "\n",
      "    - class:\n",
      "            - class_0\n",
      "            - class_1\n",
      "            - class_2\n",
      "\t\t\n",
      "    :Summary Statistics:\n",
      "    \n",
      "    ============================= ==== ===== ======= =====\n",
      "                                   Min   Max   Mean     SD\n",
      "    ============================= ==== ===== ======= =====\n",
      "    Alcohol:                      11.0  14.8    13.0   0.8\n",
      "    Malic Acid:                   0.74  5.80    2.34  1.12\n",
      "    Ash:                          1.36  3.23    2.36  0.27\n",
      "    Alcalinity of Ash:            10.6  30.0    19.5   3.3\n",
      "    Magnesium:                    70.0 162.0    99.7  14.3\n",
      "    Total Phenols:                0.98  3.88    2.29  0.63\n",
      "    Flavanoids:                   0.34  5.08    2.03  1.00\n",
      "    Nonflavanoid Phenols:         0.13  0.66    0.36  0.12\n",
      "    Proanthocyanins:              0.41  3.58    1.59  0.57\n",
      "    Colour Intensity:              1.3  13.0     5.1   2.3\n",
      "    Hue:                          0.48  1.71    0.96  0.23\n",
      "    OD280/OD315 of diluted wines: 1.27  4.00    2.61  0.71\n",
      "    Proline:                       278  1680     746   315\n",
      "    ============================= ==== ===== ======= =====\n",
      "\n",
      "    :Missing Attribute Values: None\n",
      "    :Class Distribution: class_0 (59), class_1 (71), class_2 (48)\n",
      "    :Creator: R.A. Fisher\n",
      "    :Donor: Michael Marshall (MARSHALL%PLU@io.arc.nasa.gov)\n",
      "    :Date: July, 1988\n",
      "\n",
      "This is a copy of UCI ML Wine recognition datasets.\n",
      "https://archive.ics.uci.edu/ml/machine-learning-databases/wine/wine.data\n",
      "\n",
      "The data is the results of a chemical analysis of wines grown in the same\n",
      "region in Italy by three different cultivators. There are thirteen different\n",
      "measurements taken for different constituents found in the three types of\n",
      "wine.\n",
      "\n",
      "Original Owners: \n",
      "\n",
      "Forina, M. et al, PARVUS - \n",
      "An Extendible Package for Data Exploration, Classification and Correlation. \n",
      "Institute of Pharmaceutical and Food Analysis and Technologies,\n",
      "Via Brigata Salerno, 16147 Genoa, Italy.\n",
      "\n",
      "Citation:\n",
      "\n",
      "Lichman, M. (2013). UCI Machine Learning Repository\n",
      "[https://archive.ics.uci.edu/ml]. Irvine, CA: University of California,\n",
      "School of Information and Computer Science. \n",
      "\n",
      ".. topic:: References\n",
      "\n",
      "  (1) S. Aeberhard, D. Coomans and O. de Vel, \n",
      "  Comparison of Classifiers in High Dimensional Settings, \n",
      "  Tech. Rep. no. 92-02, (1992), Dept. of Computer Science and Dept. of  \n",
      "  Mathematics and Statistics, James Cook University of North Queensland. \n",
      "  (Also submitted to Technometrics). \n",
      "\n",
      "  The data was used with many others for comparing various \n",
      "  classifiers. The classes are separable, though only RDA \n",
      "  has achieved 100% correct classification. \n",
      "  (RDA : 100%, QDA 99.4%, LDA 98.9%, 1NN 96.1% (z-transformed data)) \n",
      "  (All results using the leave-one-out technique) \n",
      "\n",
      "  (2) S. Aeberhard, D. Coomans and O. de Vel, \n",
      "  \"THE CLASSIFICATION PERFORMANCE OF RDA\" \n",
      "  Tech. Rep. no. 92-01, (1992), Dept. of Computer Science and Dept. of \n",
      "  Mathematics and Statistics, James Cook University of North Queensland. \n",
      "  (Also submitted to Journal of Chemometrics).\n",
      "\n"
     ]
    }
   ],
   "source": [
    "from sklearn.datasets import load_wine\n",
    "wine = load_wine()\n",
    "print(wine.DESCR)"
   ]
  },
  {
   "cell_type": "markdown",
   "metadata": {},
   "source": [
    "# [1] 수업시간에 배운 알고리즘들의 파라미터를 최적화"
   ]
  },
  {
   "cell_type": "markdown",
   "metadata": {},
   "source": [
    "## data scale 차이가 심하여 정규화를 하고 시작"
   ]
  },
  {
   "cell_type": "markdown",
   "metadata": {},
   "source": [
    "### Magnisum과 Proline과 다른 feature간의 scale격차가 굉장히 심함 => 정규화필요"
   ]
  },
  {
   "cell_type": "code",
   "execution_count": 3,
   "metadata": {
    "scrolled": true
   },
   "outputs": [
    {
     "data": {
      "text/plain": [
       "4.66735072755122e-16"
      ]
     },
     "execution_count": 3,
     "metadata": {},
     "output_type": "execute_result"
    }
   ],
   "source": [
    "from sklearn.preprocessing import StandardScaler\n",
    "# Z-score를 이용한 정규화\n",
    "std_scaler = StandardScaler()\n",
    "# wine data를 정규화 시킨다.\n",
    "std_scaler.fit(wine.data)\n",
    "# 정규화 된 데이터 wine_scaled_data 생성\n",
    "wine_scaled_data = std_scaler.transform(wine.data)\n",
    "wine_scaled_data\n",
    "wine_scaled_data.mean()\n",
    "# 위의 코드로 만들어진 정규화된 데이터를 사용하여 학습알고리즘의 input으로 넣는다."
   ]
  },
  {
   "cell_type": "markdown",
   "metadata": {},
   "source": [
    "# Split data"
   ]
  },
  {
   "cell_type": "code",
   "execution_count": 4,
   "metadata": {},
   "outputs": [],
   "source": [
    "from sklearn.model_selection import train_test_split\n",
    "# 80 : 20으로 데이터 분할\n",
    "x_train, x_test, y_train, y_test = train_test_split(wine_scaled_data, wine.target, test_size = 0.2,random_state=95)\n",
    "x_valid, x_test, y_valid, y_test = train_test_split(x_test, y_test, test_size = 0.5,random_state=95)"
   ]
  },
  {
   "cell_type": "code",
   "execution_count": 5,
   "metadata": {},
   "outputs": [
    {
     "name": "stdout",
     "output_type": "stream",
     "text": [
      "x_train 의 크기 : (142, 13)\n",
      "y_train 의 크기 : (142,)\n",
      "x_test 의 크기 : (18, 13)\n",
      "y_test 의 크기 : (18,)\n",
      "x_valid 의 크기 : (18, 13)\n",
      "y_valid 의 크기 : (18,)\n"
     ]
    }
   ],
   "source": [
    "# 80 : 10 : 10 비율로 잘 나눠졌는지 데이터 크기 관찰\n",
    "print(\"x_train 의 크기 : {}\".format(x_train.shape))\n",
    "print(\"y_train 의 크기 : {}\".format(y_train.shape))\n",
    "print(\"x_test 의 크기 : {}\".format(x_test.shape))\n",
    "print(\"y_test 의 크기 : {}\".format(y_test.shape))\n",
    "print(\"x_valid 의 크기 : {}\".format(x_valid.shape))\n",
    "print(\"y_valid 의 크기 : {}\".format(y_valid.shape))"
   ]
  },
  {
   "cell_type": "markdown",
   "metadata": {},
   "source": [
    "# KNN Classifier"
   ]
  },
  {
   "cell_type": "markdown",
   "metadata": {},
   "source": [
    "### Requirements : 수업시간에 배운 metric 들 중 최소 두 개 비교 ,이웃의 개수 k 를 최소 3개 비교"
   ]
  },
  {
   "cell_type": "markdown",
   "metadata": {},
   "source": [
    "### 1) 최적의 hyper parameter 도출"
   ]
  },
  {
   "cell_type": "code",
   "execution_count": 45,
   "metadata": {
    "scrolled": false
   },
   "outputs": [
    {
     "data": {
      "image/png": "[encoded data removed]",
      "text/plain": [
       "<Figure size 720x720 with 1 Axes>"
      ]
     },
     "metadata": {
      "needs_background": "light"
     },
     "output_type": "display_data"
    }
   ],
   "source": [
    "# graph setting\n",
    "import numpy as np\n",
    "plt.figure(figsize=(10.0,10.0))\n",
    "# title\n",
    "plt.title('KNN algorithm accuracy measured by changing the number of neighbors ',fontsize='15')\n",
    "# plt의 x 축\n",
    "plt.xlabel('n_neighbors',fontsize='20')\n",
    "# plt의 y 축\n",
    "plt.ylabel('accuracy',fontsize='20')\n",
    "\n",
    "# KNN algorithm을 사용하여 성능평가를 위한 함수 작성\n",
    "from sklearn.neighbors import KNeighborsClassifier\n",
    "from sklearn.metrics import accuracy_score\n",
    "\n",
    "## grid_search를 극소적으로 구현\n",
    "\n",
    "## test accuracy 측정\n",
    "def test_estimator(train_data, train_label, test_data, test_label, metric, legend):\n",
    "    score=[] # 점수를 담아둘 리스트\n",
    "    for k in range(1,11): # neighbor size 1 ~ 20\n",
    "        # training phase\n",
    "            # none\n",
    "        # testing phase\n",
    "        knn = KNeighborsClassifier(n_neighbors=k,n_jobs=-1,p=metric)\n",
    "        knn.fit(train_data,train_label)\n",
    "        y_pred = knn.predict(test_data)\n",
    "        # 각각의 결과에 대한 점수를 리스트에 추가\n",
    "        score.append((test_label == y_pred).mean())\n",
    "    # 점수를 그래프로 시각화 EDA\n",
    "    plt.plot([i for i in range(1,11)],score,label=legend)\n",
    "    # 점수리스트 초기화\n",
    "    score=[]\n",
    "\n",
    "## training accuracy 측정\n",
    "def training_estimator(train_data, train_label,metric,legend):\n",
    "    score=[]\n",
    "    for k in range(1,11):\n",
    "        knn = KNeighborsClassifier(n_neighbors=k,n_jobs=-1,p=metric)\n",
    "        knn.fit(train_data,train_label)\n",
    "        # training data로 성능측정을 하는 것이므로 predict시에 training data가 input으로 들어가야 한다.\n",
    "        y_pred = knn.predict(train_data)\n",
    "        score.append((train_label == y_pred).mean())\n",
    "    plt.plot([i for i in range(1,11)],score,label=legend)\n",
    "    score=[]\n",
    "# training 데이터로 training accuracy 측정 - 맨하탄 거리\n",
    "training_estimator(x_train,y_train,1,'training accuracy using mahattan distance')\n",
    "# training 데이터로 training accuracy 측정- 유클리드 거리\n",
    "training_estimator(x_train,y_train,2,'training accuracy using eculidean distance')\n",
    "# valid 데이터로 testing accuracy 측정 - 맨하탄 거리\n",
    "test_estimator(x_train,y_train,x_valid,y_valid,1, 'testing accuracy using manhattan distance')\n",
    "# valid 데이터로 testing accuracy 측정 - 유클리드 거리\n",
    "test_estimator(x_train,y_train,x_valid,y_valid,2, 'testing accuracy using eculidean distance')\n",
    "# graph setting\n",
    "plt.legend(loc='lower right',fontsize='x-large')\n",
    "x_bins = np.arange(1,11,step=1)\n",
    "plt.xticks(x_bins)\n",
    "y_bins = np.arange(0.5,1.05,step=0.05)\n",
    "plt.yticks(y_bins)\n",
    "plt.show()"
   ]
  },
  {
   "cell_type": "markdown",
   "metadata": {},
   "source": [
    "### 결과 : k가 9일때, metric은 euclidean distance 인 경우 결과가 가장 좋았다."
   ]
  },
  {
   "cell_type": "markdown",
   "metadata": {},
   "source": [
    "### 2) 최종 성능 평가"
   ]
  },
  {
   "cell_type": "code",
   "execution_count": 46,
   "metadata": {},
   "outputs": [
    {
     "name": "stdout",
     "output_type": "stream",
     "text": [
      "x_train 의 크기 : (160, 13)\n",
      "y_train 의 크기 : (160,)\n"
     ]
    }
   ],
   "source": [
    "# valid와 training으로 나눠져있던 데이터를 최종 성능 검증을 위한 training set으로 합친다.\n",
    "import numpy as np\n",
    "x_train = np.concatenate((x_train, x_valid), axis=0)\n",
    "y_train = np.concatenate((y_train, y_valid), axis=0)\n",
    "# 잘합쳐졌는지 확인\n",
    "# 178개의 instance 9: 1 분할 이므로 178 * 0.9 = 160개의 데이터\n",
    "print(\"x_train 의 크기 : {}\".format(x_train.shape))\n",
    "print(\"y_train 의 크기 : {}\".format(y_train.shape))"
   ]
  },
  {
   "cell_type": "code",
   "execution_count": 47,
   "metadata": {},
   "outputs": [
    {
     "name": "stdout",
     "output_type": "stream",
     "text": [
      "KNN의 최종 accuracy는 94.444444 %입니다.\n"
     ]
    }
   ],
   "source": [
    "# 제일 좋았던 hyper paramter인 k =4와 eculidean distance으로 setting하고 합쳐진 90%의 training data로 학습을 진행한다.\n",
    "knn = KNeighborsClassifier(n_neighbors=4, p=2)\n",
    "knn.fit(x_train,y_train)\n",
    "y_pred = knn.predict(x_test)\n",
    "knn_score = (y_pred == y_test).mean()\n",
    "# accuracy_score() == score() == (y_pred == y_test).mean() 모두 같은 결과 나온다. 셋 중 아무거나 사용한다.\n",
    "print(\"KNN의 최종 accuracy는 %.6f %%입니다.\"%(knn_score*100))"
   ]
  },
  {
   "cell_type": "markdown",
   "metadata": {},
   "source": [
    "# [Decision Tree Classifier]"
   ]
  },
  {
   "cell_type": "markdown",
   "metadata": {},
   "source": [
    "## Requirements : gini 와 entropy criterion의 비교"
   ]
  },
  {
   "cell_type": "markdown",
   "metadata": {},
   "source": [
    "<strong> 수업시간에 중요하게 다뤘던 hyper parameter인 max_depth를 추가하여 비교 </strong>"
   ]
  },
  {
   "cell_type": "markdown",
   "metadata": {},
   "source": [
    "### 1)최적의 hyper parameter 도출"
   ]
  },
  {
   "cell_type": "code",
   "execution_count": 48,
   "metadata": {},
   "outputs": [],
   "source": [
    "from sklearn.model_selection import train_test_split\n",
    "# 80 : 20으로 데이터 분할\n",
    "x_train, x_test, y_train, y_test, x_valid, y_valid =0, 0, 0, 0, 0, 0\n",
    "x_train, x_test, y_train, y_test = train_test_split(wine_scaled_data, wine.target, test_size = 0.2,random_state=95)\n",
    "x_valid, x_test, y_valid, y_test = train_test_split(x_test, y_test, test_size = 0.5,random_state=95)"
   ]
  },
  {
   "cell_type": "code",
   "execution_count": 49,
   "metadata": {},
   "outputs": [
    {
     "data": {
      "image/png": "[encoded data removed]",
      "text/plain": [
       "<Figure size 720x720 with 1 Axes>"
      ]
     },
     "metadata": {
      "needs_background": "light"
     },
     "output_type": "display_data"
    }
   ],
   "source": [
    "from sklearn import tree\n",
    "# graph setting\n",
    "plt.figure(figsize=(10.0,10.0))\n",
    "plt.title('Decision Tree accuracy measured by changing the max depth ',fontsize='15')\n",
    "plt.xlabel('max_depth',fontsize='20')\n",
    "plt.ylabel('accuracy',fontsize='20')\n",
    "\n",
    "# 각 hyper parameter에서 나타나는 정확도를 성능지표로 삼기위해 리스트 생성\n",
    "score = []\n",
    "# criterion='entropy' 이면서 max_depth를 바꿔가며 정확도 측정\n",
    "for depth in range(2,11):\n",
    "    dt = tree.DecisionTreeClassifier(criterion='entropy', max_depth=depth, random_state=0)\n",
    "    dt.fit(x_train,y_train)\n",
    "    y_pred = dt.predict(x_valid)\n",
    "    score.append(accuracy_score(y_valid,y_pred))\n",
    "plt.plot([i for i in range(2,11)],score,label='entropy')\n",
    "\n",
    "# criterion='gini' 이면서 max_depth를 바꿔가며 정확도 측정\n",
    "score = []\n",
    "for depth in range(2,11):\n",
    "    dt = tree.DecisionTreeClassifier(criterion='gini', max_depth=depth, random_state=0)\n",
    "    dt.fit(x_train,y_train)\n",
    "    y_pred = dt.predict(x_valid)\n",
    "    score.append(accuracy_score(y_valid,y_pred))\n",
    "plt.plot([i for i in range(2,11)],score,label='gini')\n",
    "\n",
    "score=[]\n",
    "# graph setting\n",
    "plt.legend(loc='lower right',fontsize='x-large')\n",
    "x_bins = np.arange(2,11,step=1)\n",
    "plt.xticks(x_bins)\n",
    "y_bins = np.arange(0.5,1.05,step=0.05)\n",
    "plt.yticks(y_bins)\n",
    "plt.show()"
   ]
  },
  {
   "cell_type": "markdown",
   "metadata": {},
   "source": [
    "### 결과 :  max_depth = 3이고 criterion이 entropy일 때 정확도가 가장높았다."
   ]
  },
  {
   "cell_type": "markdown",
   "metadata": {},
   "source": [
    "### 2) 최종 성능평가"
   ]
  },
  {
   "cell_type": "code",
   "execution_count": 50,
   "metadata": {},
   "outputs": [],
   "source": [
    "# valid와 training으로 나눠져있던 데이터를 최종 성능 검증을 위한 training set으로 합친다.\n",
    "x_train = np.concatenate((x_train, x_valid), axis=0)\n",
    "y_train = np.concatenate((y_train, y_valid), axis=0)"
   ]
  },
  {
   "cell_type": "code",
   "execution_count": 51,
   "metadata": {},
   "outputs": [
    {
     "name": "stdout",
     "output_type": "stream",
     "text": [
      "Decision Tree의 최종 accuracy는 83.33 %입니다.\n"
     ]
    }
   ],
   "source": [
    "# 제일 좋았던 hyper paramter인 max_depth = 3 과 entropy로 setting하고 합쳐진 90%의 training data로 학습을 진행한다.\n",
    "dt = tree.DecisionTreeClassifier(criterion='entropy', max_depth=3)\n",
    "dt.fit(x_train,y_train)\n",
    "y_pred = dt.predict(x_test)\n",
    "dt_score =  accuracy_score(y_test,y_pred)\n",
    "print(\"Decision Tree의 최종 accuracy는 %.2f %%입니다.\"%(dt_score*100))"
   ]
  },
  {
   "cell_type": "markdown",
   "metadata": {},
   "source": [
    "# [Ensembel Classifier]"
   ]
  },
  {
   "cell_type": "markdown",
   "metadata": {},
   "source": [
    "### Requirements : Ensembel approach에서 Random Forest와 Bagging 비교하기"
   ]
  },
  {
   "cell_type": "markdown",
   "metadata": {},
   "source": [
    "## 1. Random Forest"
   ]
  },
  {
   "cell_type": "markdown",
   "metadata": {},
   "source": [
    "### 1) 비교  hyper parameter로는 Decision Tree에서 가장 좋았던 max_depth = 3와 criterion = entropy 사용"
   ]
  },
  {
   "cell_type": "code",
   "execution_count": 52,
   "metadata": {},
   "outputs": [],
   "source": [
    "from sklearn.model_selection import train_test_split\n",
    "# 80 : 20으로 데이터 분할\n",
    "x_train, x_test, y_train, y_test, x_valid, y_valid =0, 0, 0, 0, 0, 0\n",
    "x_train, x_test, y_train, y_test = train_test_split(wine_scaled_data, wine.target, test_size = 0.2,random_state=95)\n",
    "x_valid, x_test, y_valid, y_test = train_test_split(x_test, y_test, test_size = 0.5,random_state=95) "
   ]
  },
  {
   "cell_type": "code",
   "execution_count": 53,
   "metadata": {},
   "outputs": [
    {
     "name": "stdout",
     "output_type": "stream",
     "text": [
      "실제 레이블과 일치율 : 88.89 %입니다.\n"
     ]
    }
   ],
   "source": [
    "from sklearn.ensemble import RandomForestClassifier\n",
    "#생성되는 나무의 수 100개, criterion = gini, bootstrap 작동, max_feature = sqrt(feature) = auto\n",
    "rf = RandomForestClassifier(max_depth = 3, n_estimators = 100, criterion ='entropy', bootstrap=True)\n",
    "rf.fit(x_train, y_train)\n",
    "y_pred = rf.predict(x_valid)\n",
    "rf_score = (y_valid == y_pred).mean()\n",
    "print(\"실제 레이블과 일치율 : %.2f %%입니다.\"%(rf_score*100))"
   ]
  },
  {
   "cell_type": "markdown",
   "metadata": {},
   "source": [
    "### 2) 최종 성능 평가"
   ]
  },
  {
   "cell_type": "code",
   "execution_count": 54,
   "metadata": {},
   "outputs": [],
   "source": [
    "# valid와 training으로 나눠져있던 데이터를 최종 성능 검증을 위한 training set으로 합친다.\n",
    "x_train = np.concatenate((x_train, x_valid), axis=0)\n",
    "y_train = np.concatenate((y_train, y_valid), axis=0)"
   ]
  },
  {
   "cell_type": "code",
   "execution_count": 55,
   "metadata": {},
   "outputs": [
    {
     "name": "stdout",
     "output_type": "stream",
     "text": [
      "final score : 100.00 %입니다.\n"
     ]
    }
   ],
   "source": [
    "rf = RandomForestClassifier(max_depth = 3, n_estimators = 100, criterion ='entropy', bootstrap=True)\n",
    "rf.fit(x_train, y_train)\n",
    "y_pred = rf.predict(x_test)\n",
    "rf_score=(y_test == y_pred).mean()\n",
    "print(\"예측과 테스트 데이터 일치율 : %.2f %%입니다.\"%(rf_score*100))"
   ]
  },
  {
   "cell_type": "markdown",
   "metadata": {},
   "source": [
    "## 2. Bagging"
   ]
  },
  {
   "cell_type": "markdown",
   "metadata": {},
   "source": [
    "### 1) 비교  hyper parameter로는 Decision Tree에서 가장 좋았던 max_depth = 3와 criterion = entropy 사용"
   ]
  },
  {
   "cell_type": "code",
   "execution_count": 56,
   "metadata": {},
   "outputs": [],
   "source": [
    "from sklearn.model_selection import train_test_split\n",
    "# 80 : 20으로 데이터 분할\n",
    "x_train, x_test, y_train, y_test, x_valid, y_valid =0, 0, 0, 0, 0, 0\n",
    "x_train, x_test, y_train, y_test = train_test_split(wine_scaled_data, wine.target, test_size = 0.2,random_state=95)\n",
    "x_valid, x_test, y_valid, y_test = train_test_split(x_test, y_test, test_size = 0.5,random_state=95) "
   ]
  },
  {
   "cell_type": "code",
   "execution_count": 57,
   "metadata": {},
   "outputs": [
    {
     "name": "stdout",
     "output_type": "stream",
     "text": [
      "실제 레이블과 일치율 : 88.89 %입니다.\n"
     ]
    }
   ],
   "source": [
    "from sklearn.ensemble import BaggingClassifier\n",
    "# base_estimator라는 parameter가 있는데 이는 각  phase에서 learning algorithm으로 쓸 것을 말한다. default가 decision tree임\n",
    "bg = BaggingClassifier(tree.DecisionTreeClassifier(max_depth=3,criterion = 'entropy'),n_estimators = 100, bootstrap=True)\n",
    "bg.fit(x_train, y_train)\n",
    "y_pred = bg.predict(x_valid)\n",
    "bg_score = (y_valid==y_pred).mean()\n",
    "print(\"실제 레이블과 일치율 : %.2f %%입니다.\"%(bg_score*100))"
   ]
  },
  {
   "cell_type": "markdown",
   "metadata": {},
   "source": [
    "### 2) 최종 성능 평가"
   ]
  },
  {
   "cell_type": "code",
   "execution_count": 58,
   "metadata": {},
   "outputs": [],
   "source": [
    "# valid와 training으로 나눠져있던 데이터를 최종 성능 검증을 위한 training set으로 합친다.\n",
    "x_train = np.concatenate((x_train, x_valid), axis=0)\n",
    "y_train = np.concatenate((y_train, y_valid), axis=0)"
   ]
  },
  {
   "cell_type": "code",
   "execution_count": 61,
   "metadata": {},
   "outputs": [
    {
     "name": "stdout",
     "output_type": "stream",
     "text": [
      "예측과 테스트 데이터 일치율 : 100.00%입니다.\n"
     ]
    }
   ],
   "source": [
    "bg = BaggingClassifier(tree.DecisionTreeClassifier(max_depth=3,criterion='entropy'),n_estimators = 100, bootstrap=True)\n",
    "bg.fit(x_train, y_train)\n",
    "y_pred = bg.predict(x_test)\n",
    "bg_score = (y_test == y_pred).mean()\n",
    "print(\"예측과 테스트 데이터 일치율 : %.2f%%입니다.\"%(bg_score*100))"
   ]
  },
  {
   "cell_type": "markdown",
   "metadata": {},
   "source": [
    "# [SVM]"
   ]
  },
  {
   "cell_type": "markdown",
   "metadata": {},
   "source": [
    "### Requirments : A.\tlinear SVM과 kernel trick이 적용된 SVM간의 비교 (kernel 의 종류는 상관 없음) "
   ]
  },
  {
   "cell_type": "markdown",
   "metadata": {},
   "source": [
    "## 1. Linear SVM "
   ]
  },
  {
   "cell_type": "code",
   "execution_count": 62,
   "metadata": {},
   "outputs": [],
   "source": [
    "from sklearn.model_selection import train_test_split\n",
    "# 80 : 20으로 데이터 분할\n",
    "x_train, x_test, y_train, y_test, x_valid, y_valid =0, 0, 0, 0, 0, 0\n",
    "x_train, x_test, y_train, y_test = train_test_split(wine_scaled_data, wine.target, test_size = 0.2,random_state=95)\n",
    "x_valid, x_test, y_valid, y_test = train_test_split(x_test, y_test, test_size = 0.5,random_state=95) "
   ]
  },
  {
   "cell_type": "markdown",
   "metadata": {},
   "source": [
    "### 1) Margin과 관련된  hyper parameter 인 c를 변화시켜가면서 Linear일 때 최적의 c를 찾는다."
   ]
  },
  {
   "cell_type": "code",
   "execution_count": 63,
   "metadata": {},
   "outputs": [
    {
     "data": {
      "image/png": "[encoded data removed]",
      "text/plain": [
       "<Figure size 720x720 with 1 Axes>"
      ]
     },
     "metadata": {
      "needs_background": "light"
     },
     "output_type": "display_data"
    }
   ],
   "source": [
    "from sklearn import svm\n",
    "\n",
    "# graph setting\n",
    "plt.figure(figsize=(10.0,10.0))\n",
    "plt.title('linear SVM that accuracy measured by changing the C ',fontsize='15')\n",
    "plt.xlabel('C',fontsize='20')\n",
    "plt.ylabel('accuracy',fontsize='20')\n",
    "\n",
    "# 각 hyper parameter에서 나타나는 정확도를 성능지표로 삼기위해 리스트 생성\n",
    "score = []\n",
    "\n",
    "# 0.01부터 0.1씩 증가시키면서 최적의 C를 찾는다.\n",
    "for c in np.arange(0.01, 1, step=0.1):\n",
    "    # kernel function이 linear이고 margin의 간격 허용치를 점점 더 줄인다.. soft margin -> hard margin\n",
    "    # c가 작으면 그만큼 허용하는 slack variable이 커 질 수 있으므로 허용치가 c가 작을 수록 높아진다.\n",
    "    ls = svm.SVC(kernel = 'linear' , C=c)\n",
    "    ls.fit(x_train,y_train)\n",
    "    y_pred = ls.predict(x_valid)\n",
    "    score.append((y_valid==y_pred).mean())\n",
    "\n",
    "plt.plot([i for i in np.arange(0.01,1,step=0.1)],score,label='C')\n",
    "\n",
    "# graph setting\n",
    "plt.legend(loc='lower right',fontsize='x-large')\n",
    "x_bins = np.arange(0.01,1.1,step=0.1)\n",
    "plt.xticks(x_bins)\n",
    "y_bins = np.arange(0.85,1.05,step=0.05)\n",
    "plt.yticks(y_bins)\n",
    "plt.show()"
   ]
  },
  {
   "cell_type": "markdown",
   "metadata": {},
   "source": [
    "### 결과 : C >= 0.21 부터는 상당히 높은 정확도를 보인다."
   ]
  },
  {
   "cell_type": "markdown",
   "metadata": {},
   "source": [
    "### 2) 최종 성능 평가"
   ]
  },
  {
   "cell_type": "code",
   "execution_count": 64,
   "metadata": {},
   "outputs": [],
   "source": [
    "# valid와 training으로 나눠져있던 데이터를 최종 성능 검증을 위한 training set으로 합친다.\n",
    "x_train = np.concatenate((x_train, x_valid), axis=0)\n",
    "y_train = np.concatenate((y_train, y_valid), axis=0)"
   ]
  },
  {
   "cell_type": "code",
   "execution_count": 68,
   "metadata": {},
   "outputs": [
    {
     "name": "stdout",
     "output_type": "stream",
     "text": [
      "예측과 테스트 데이터 일치율 :  100.00%입니다.\n"
     ]
    }
   ],
   "source": [
    "# C가 0.21 이상부터는 동일한 정확도를 보인다. 때문에 0.21보다 큰 값이고 간단한 1을 선택한다.\n",
    "ls = svm.SVC(kernel = 'linear', C=1)\n",
    "ls.fit(x_train,y_train)\n",
    "y_pred = ls.predict(x_test)\n",
    "ls_score = (y_test == y_pred).mean()\n",
    "print(\"예측과 테스트 데이터 일치율 :  %.2f%%입니다.\"%(ls_score*100))"
   ]
  },
  {
   "cell_type": "markdown",
   "metadata": {},
   "source": [
    "## 2. Kernel Trick"
   ]
  },
  {
   "cell_type": "markdown",
   "metadata": {},
   "source": [
    "### 1) 여러가지 커널 트릭을 사용해보고 제일 좋은 것을 고른다. c는 1로 선택한다."
   ]
  },
  {
   "cell_type": "code",
   "execution_count": 69,
   "metadata": {},
   "outputs": [],
   "source": [
    "from sklearn.model_selection import train_test_split\n",
    "# 80 : 20으로 데이터 분할\n",
    "x_train, x_test, y_train, y_test, x_valid, y_valid =0, 0, 0, 0, 0, 0\n",
    "x_train, x_test, y_train, y_test = train_test_split(wine_scaled_data, wine.target, test_size = 0.2,random_state=95)\n",
    "x_valid, x_test, y_valid, y_test = train_test_split(x_test, y_test, test_size = 0.5,random_state=95) "
   ]
  },
  {
   "cell_type": "code",
   "execution_count": 70,
   "metadata": {},
   "outputs": [
    {
     "name": "stdout",
     "output_type": "stream",
     "text": [
      "kernel rbf의 점수는 1.00 입니다.\n",
      "kernel poly의 점수는 0.89 입니다.\n",
      "kernel sigmoid의 점수는 0.94 입니다.\n"
     ]
    }
   ],
   "source": [
    "from sklearn import svm\n",
    "#사용 가능한 Kernel function의 종류는 rbf, poly, sigmoid 3가지가 있다.\n",
    "kernel_list = ['rbf', 'poly','sigmoid']\n",
    "\n",
    "score = []\n",
    "# 3가지 kernel function에 대해 각각의 정확도를 테스트 하고 제일 좋은 kernel function을 찾아본다\n",
    "for k in kernel_list:\n",
    "    ksv = svm.SVC(kernel = k, C=1)\n",
    "    ksv.fit(x_train,y_train)\n",
    "    y_pred = ksv.predict(x_valid)\n",
    "    score.append((y_pred==y_valid).mean())\n",
    "#각각의 kernel function이 받았던 점수를 출력한다.\n",
    "for kl, s in zip(kernel_list,score):\n",
    "    print('kernel %s의 점수는 %.2f 입니다.'%(kl,s))"
   ]
  },
  {
   "cell_type": "markdown",
   "metadata": {},
   "source": [
    "### 결과 : kernel trick 중 가장 좋은 것은 rbf 였다."
   ]
  },
  {
   "cell_type": "markdown",
   "metadata": {},
   "source": [
    "### 2) 최종 성능 평가"
   ]
  },
  {
   "cell_type": "code",
   "execution_count": 71,
   "metadata": {},
   "outputs": [],
   "source": [
    "# valid와 training으로 나눠져있던 데이터를 최종 성능 검증을 위한 training set으로 합친다.\n",
    "x_train = np.concatenate((x_train, x_valid), axis=0)\n",
    "y_train = np.concatenate((y_train, y_valid), axis=0)"
   ]
  },
  {
   "cell_type": "code",
   "execution_count": 72,
   "metadata": {},
   "outputs": [
    {
     "name": "stdout",
     "output_type": "stream",
     "text": [
      "kernel rbf의 final score는 1.00입니다.\n",
      "kernel poly의 final score는 0.89입니다.\n",
      "kernel sigmoid의 final score는 1.00입니다.\n"
     ]
    }
   ],
   "source": [
    "for k in ['rbf', 'poly', 'sigmoid']:\n",
    "    ksv = svm.SVC(kernel = k, C=1)\n",
    "    ksv.fit(x_train,y_train)\n",
    "    y_pred = ksv.predict(x_test)\n",
    "    score = (y_test == y_pred).mean()\n",
    "    print(\"kernel %s의 final score는 %.2f입니다.\"%(k,score))"
   ]
  },
  {
   "cell_type": "markdown",
   "metadata": {},
   "source": [
    "# [2] Cross-validation을 이용한 최적화된 알고리즘 탐색"
   ]
  },
  {
   "cell_type": "markdown",
   "metadata": {},
   "source": [
    "### 1) 저는 최적의 모델로 SVM을 선정하였고 \n",
    "###     이를 토대로 K-fold와 loocv를 통해서 최적의 하이퍼 파라미터를 찾아보겠습니다."
   ]
  },
  {
   "cell_type": "code",
   "execution_count": 73,
   "metadata": {},
   "outputs": [],
   "source": [
    "# 데이터를 90:10으로 분할\n",
    "x_train, x_test, y_train, y_test = train_test_split(wine.data, wine.target, test_size = 0.1,random_state=95)"
   ]
  },
  {
   "cell_type": "markdown",
   "metadata": {},
   "source": [
    "### 1-1) pipeline 생성,  여러가지 k값을 가지고 Grid searchCV를 진행합니다"
   ]
  },
  {
   "cell_type": "code",
   "execution_count": 74,
   "metadata": {},
   "outputs": [
    {
     "name": "stdout",
     "output_type": "stream",
     "text": [
      "| k=2일 때, 최고점수 : 0.981250 |\n",
      "| k=2일 때, 최적의 파라미터 : {'clf__C': 1.0, 'clf__gamma': 0.1, 'clf__kernel': 'rbf'} |\n",
      "--------------------------------------------------------------------------------------------------\n",
      "| k=3일 때, 최고점수 : 0.981249 |\n",
      "| k=3일 때, 최적의 파라미터 : {'clf__C': 1.0, 'clf__gamma': 0.1, 'clf__kernel': 'rbf'} |\n",
      "--------------------------------------------------------------------------------------------------\n",
      "| k=4일 때, 최고점수 : 0.981250 |\n",
      "| k=4일 때, 최적의 파라미터 : {'clf__C': 0.1, 'clf__kernel': 'linear'} |\n",
      "--------------------------------------------------------------------------------------------------\n",
      "| k=5일 때, 최고점수 : 0.981250 |\n",
      "| k=5일 때, 최적의 파라미터 : {'clf__C': 0.1, 'clf__kernel': 'linear'} |\n",
      "--------------------------------------------------------------------------------------------------\n",
      "| k=6일 때, 최고점수 : 0.981007 |\n",
      "| k=6일 때, 최적의 파라미터 : {'clf__C': 1.0, 'clf__kernel': 'linear'} |\n",
      "--------------------------------------------------------------------------------------------------\n",
      "| k=7일 때, 최고점수 : 0.981366 |\n",
      "| k=7일 때, 최적의 파라미터 : {'clf__C': 0.01, 'clf__kernel': 'linear'} |\n",
      "--------------------------------------------------------------------------------------------------\n",
      "| k=8일 때, 최고점수 : 0.987500 |\n",
      "| k=8일 때, 최적의 파라미터 : {'clf__C': 1.0, 'clf__gamma': 0.01, 'clf__kernel': 'rbf'} |\n",
      "--------------------------------------------------------------------------------------------------\n",
      "| k=9일 때, 최고점수 : 0.981481 |\n",
      "| k=9일 때, 최적의 파라미터 : {'clf__C': 0.01, 'clf__kernel': 'linear'} |\n",
      "--------------------------------------------------------------------------------------------------\n",
      "| k=10일 때, 최고점수 : 0.987500 |\n",
      "| k=10일 때, 최적의 파라미터 : {'clf__C': 1.0, 'clf__gamma': 0.01, 'clf__kernel': 'rbf'} |\n",
      "--------------------------------------------------------------------------------------------------\n"
     ]
    },
    {
     "data": {
      "image/png": "[encoded data removed]",
      "text/plain": [
       "<Figure size 720x720 with 1 Axes>"
      ]
     },
     "metadata": {
      "needs_background": "light"
     },
     "output_type": "display_data"
    }
   ],
   "source": [
    "from sklearn.model_selection import GridSearchCV\n",
    "from sklearn.pipeline import Pipeline\n",
    "from sklearn.preprocessing import StandardScaler\n",
    "from sklearn.svm import SVC\n",
    "\n",
    "# graph setting\n",
    "plt.figure(figsize=(10.0,10.0))\n",
    "plt.title('GridSearchCV accuracy measured by changing K ',fontsize='15')\n",
    "plt.xlabel('K',fontsize='20')\n",
    "plt.ylabel('accuracy',fontsize='20')\n",
    "\n",
    "# pipeline 생성 데이터를 정규화 시키고, 학습시킬 알고리즘으로 svm을 선택\n",
    "pipe_svc = Pipeline([('scl', StandardScaler()), ('clf', SVC(random_state=1))])\n",
    "\n",
    "# 최적의 hyper prameter c를  찾기위해서  8가지 후보를 두고 grid search를 진행 \n",
    "param_range = [0.0001, 0.001, 0.01, 0.1, 1.0, 10.0, 100.0, 1000.0]\n",
    "# 1 아래의 parmeter들과 위의 c가 한번 씩 모두 들어가서 brute-force를 진행함으로써 제일 좋은 파라미터를  결과로 도출해준다.\n",
    "param_grid = [\n",
    "    {'clf__C': param_range, 'clf__kernel': ['linear']},\n",
    "    {'clf__C': param_range, 'clf__gamma': param_range, 'clf__kernel': ['rbf']},\n",
    "    {'clf__C': param_range, 'clf__gamma': param_range, 'clf__kernel': ['poly']},\n",
    "    {'clf__C': param_range, 'clf__gamma': param_range, 'clf__kernel': ['sigmid']}]\n",
    "\n",
    "score = []\n",
    "for cv in range(2,11):\n",
    "    # 그리드 서치 진행 \n",
    "    gs = GridSearchCV(estimator=pipe_svc, param_grid=param_grid, scoring='accuracy', cv=cv, n_jobs=-1)\n",
    "    gs.fit(x_train,y_train)\n",
    "    score.append(gs.best_score_)\n",
    "    # 각 k에서 제일 좋은 성능을 냈던 파라미터들의 성능을 점수로 표시\n",
    "    print('| k=%d일 때, 최고점수 : %.6f |'%(cv,gs.best_score_))\n",
    "    # 각 k에서 제일 좋은 성능을 냈던 파라미터들의 리스트를 dictionary형태로 출력해준다.\n",
    "    print('| k=%d일 때, 최적의 파라미터 : %s |'%(cv,gs.best_params_))\n",
    "    print('--------------------------------------------------------------------------------------------------')\n",
    "\n",
    "plt.plot([i for i in range(2,11)],score,label='K')\n",
    "# graph setting\n",
    "plt.legend(loc='lower right',fontsize='x-large')\n",
    "x_bins = np.arange(2,11,step=1)\n",
    "plt.xticks(x_bins)\n",
    "y_bins = np.arange(0.85,1.05,step=0.05)\n",
    "plt.yticks(y_bins)\n",
    "plt.show()"
   ]
  },
  {
   "cell_type": "markdown",
   "metadata": {},
   "source": [
    "### 결과: k=9일 때, 하이퍼 파라미터 {'clf__C': 1.0, 'clf__gamma': 0.01, 'clf__kernel': 'rbf'}가 가장 높았다."
   ]
  },
  {
   "cell_type": "markdown",
   "metadata": {},
   "source": [
    "### LOOCV를 통한 성능평가"
   ]
  },
  {
   "cell_type": "code",
   "execution_count": 75,
   "metadata": {},
   "outputs": [
    {
     "name": "stdout",
     "output_type": "stream",
     "text": [
      "최고 점수는 : 0.98 입니다.\n",
      "Leave One Out validation으로 평가한 최적의 hyper prameter는 {'clf__C': 1.0, 'clf__gamma': 0.01, 'clf__kernel': 'rbf'} 입니다.\n"
     ]
    }
   ],
   "source": [
    "# caution : 상당히 오래걸리므로 차분히 기다린다. => 안된다고 끄지말 것\n",
    "from sklearn.model_selection import LeaveOneOut\n",
    "    \n",
    "gs = GridSearchCV(estimator=pipe_svc, param_grid=param_grid, scoring='accuracy', cv=LeaveOneOut(), n_jobs=-1)\n",
    "gs.fit(x_train,y_train)\n",
    "print('최고 점수는 : %.2f 입니다.' % gs.best_score_)\n",
    "print(\"Leave One Out validation으로 평가한 최적의 hyper prameter는 %s 입니다.\"%gs.best_params_)"
   ]
  },
  {
   "cell_type": "code",
   "execution_count": null,
   "metadata": {},
   "outputs": [],
   "source": []
  }
 ],
 "metadata": {
  "kernelspec": {
   "display_name": "Python 3",
   "language": "python",
   "name": "python3"
  },
  "language_info": {
   "codemirror_mode": {
    "name": "ipython",
    "version": 3
   },
   "file_extension": ".py",
   "mimetype": "text/x-python",
   "name": "python",
   "nbconvert_exporter": "python",
   "pygments_lexer": "ipython3",
   "version": "3.8.1"
  }
 },
 "nbformat": 4,
 "nbformat_minor": 4
}
